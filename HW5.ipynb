{
  "nbformat": 4,
  "nbformat_minor": 0,
  "metadata": {
    "colab": {
      "provenance": [],
      "authorship_tag": "ABX9TyOe5Dotx1WnD0wBJJQ6wXNs",
      "include_colab_link": true
    },
    "kernelspec": {
      "name": "python3",
      "display_name": "Python 3"
    },
    "language_info": {
      "name": "python"
    }
  },
  "cells": [
    {
      "cell_type": "markdown",
      "metadata": {
        "id": "view-in-github",
        "colab_type": "text"
      },
      "source": [
        "<a href=\"https://colab.research.google.com/github/N1a2t3a/.Data_Science/blob/main/HW5.ipynb\" target=\"_parent\"><img src=\"https://colab.research.google.com/assets/colab-badge.svg\" alt=\"Open In Colab\"/></a>"
      ]
    },
    {
      "cell_type": "code",
      "execution_count": 32,
      "metadata": {
        "id": "8I2xhiRQYfdD"
      },
      "outputs": [],
      "source": [
        "import pandas as pd\n",
        "import numpy as np\n",
        "import matplotlib.pyplot as plt\n",
        "from sklearn.model_selection import train_test_split\n",
        "from sklearn.preprocessing import StandardScaler\n",
        "from sklearn.ensemble import RandomForestClassifier\n",
        "from sklearn.svm import SVC\n",
        "from sklearn.metrics import classification_report\n",
        "import zipfile\n",
        "import io\n",
        "import os\n",
        "import glob"
      ]
    },
    {
      "cell_type": "code",
      "source": [
        "zip_file_path = '/content/homework.zip'\n",
        "\n",
        "with zipfile.ZipFile(zip_file_path, 'r') as zip_ref:\n",
        "    zip_ref.extractall('/content/homework')"
      ],
      "metadata": {
        "id": "1JojJEyIRLfs"
      },
      "execution_count": 33,
      "outputs": []
    },
    {
      "cell_type": "code",
      "source": [
        "common_length = 240\n",
        "data = {\n",
        "    'timestamp': pd.date_range(start='2022-01-01', periods=common_length, freq='1H'),\n",
        "    'accelerometer_X': np.random.randn(common_length),\n",
        "    'accelerometer_Y': np.random.randn(common_length),\n",
        "    'accelerometer_Z': np.random.randn(common_length),\n",
        "    'activity_label': np.random.choice(['idle', 'running', 'stairs', 'walking'], size=common_length)\n",
        "}\n",
        "\n",
        "df = pd.DataFrame(data)\n",
        "\n",
        "print(df.head())"
      ],
      "metadata": {
        "colab": {
          "base_uri": "https://localhost:8080/"
        },
        "id": "lX3xnIouS_gH",
        "outputId": "c797ef44-dc1f-47ee-9dbb-2e201bb430a7"
      },
      "execution_count": 34,
      "outputs": [
        {
          "output_type": "stream",
          "name": "stdout",
          "text": [
            "            timestamp  accelerometer_X  accelerometer_Y  accelerometer_Z  \\\n",
            "0 2022-01-01 00:00:00         1.147132        -0.316513        -0.315541   \n",
            "1 2022-01-01 01:00:00        -0.476852         0.576465        -0.455895   \n",
            "2 2022-01-01 02:00:00         0.456723        -0.064500        -0.008639   \n",
            "3 2022-01-01 03:00:00        -0.446095         0.835776         0.621824   \n",
            "4 2022-01-01 04:00:00         0.022456         1.743881         0.142865   \n",
            "\n",
            "  activity_label  \n",
            "0        walking  \n",
            "1        walking  \n",
            "2        running  \n",
            "3        walking  \n",
            "4        running  \n"
          ]
        }
      ]
    },
    {
      "cell_type": "code",
      "source": [
        "if 'timestamp' in df.columns:\n",
        "    df['timestamp'] = pd.to_datetime(df['timestamp'])\n",
        "    df.set_index('timestamp', inplace=True)\n",
        "\n",
        "    time_features = df.resample('1T').agg(['mean', 'std', 'max', 'min'])\n",
        "\n",
        "    print(\"Processed Dataset Sample:\\n\", time_features.head())\n",
        "else:\n",
        "    print(\"Column 'timestamp' not found in the DataFrame.\")"
      ],
      "metadata": {
        "colab": {
          "base_uri": "https://localhost:8080/"
        },
        "id": "iA2cZR9cV_Kv",
        "outputId": "c9d17d78-7ad0-4221-b7fc-a5414ff943f5"
      },
      "execution_count": 35,
      "outputs": [
        {
          "output_type": "stream",
          "name": "stdout",
          "text": [
            "Processed Dataset Sample:\n",
            "                     accelerometer_X                         accelerometer_Y  \\\n",
            "                               mean std       max       min            mean   \n",
            "timestamp                                                                     \n",
            "2022-01-01 00:00:00        1.147132 NaN  1.147132  1.147132       -0.316513   \n",
            "2022-01-01 00:01:00             NaN NaN       NaN       NaN             NaN   \n",
            "2022-01-01 00:02:00             NaN NaN       NaN       NaN             NaN   \n",
            "2022-01-01 00:03:00             NaN NaN       NaN       NaN             NaN   \n",
            "2022-01-01 00:04:00             NaN NaN       NaN       NaN             NaN   \n",
            "\n",
            "                                            accelerometer_Z                \\\n",
            "                    std       max       min            mean std       max   \n",
            "timestamp                                                                   \n",
            "2022-01-01 00:00:00 NaN -0.316513 -0.316513       -0.315541 NaN -0.315541   \n",
            "2022-01-01 00:01:00 NaN       NaN       NaN             NaN NaN       NaN   \n",
            "2022-01-01 00:02:00 NaN       NaN       NaN             NaN NaN       NaN   \n",
            "2022-01-01 00:03:00 NaN       NaN       NaN             NaN NaN       NaN   \n",
            "2022-01-01 00:04:00 NaN       NaN       NaN             NaN NaN       NaN   \n",
            "\n",
            "                               \n",
            "                          min  \n",
            "timestamp                      \n",
            "2022-01-01 00:00:00 -0.315541  \n",
            "2022-01-01 00:01:00       NaN  \n",
            "2022-01-01 00:02:00       NaN  \n",
            "2022-01-01 00:03:00       NaN  \n",
            "2022-01-01 00:04:00       NaN  \n"
          ]
        },
        {
          "output_type": "stream",
          "name": "stderr",
          "text": [
            "<ipython-input-35-7d997f432106>:5: FutureWarning: ['activity_label'] did not aggregate successfully. If any error is raised this will raise in a future version of pandas. Drop these columns/ops to avoid this warning.\n",
            "  time_features = df.resample('1T').agg(['mean', 'std', 'max', 'min'])\n"
          ]
        }
      ]
    },
    {
      "cell_type": "code",
      "source": [
        "fixed_feature_count = 100\n",
        "\n",
        "data_folder = 'homework/data/'\n",
        "\n",
        "features = []\n",
        "labels = []\n",
        "\n",
        "actions = ['idle', 'running', 'stairs', 'walking']\n",
        "\n",
        "for action in actions:\n",
        "    action_folder = os.path.join(data_folder, action)\n",
        "\n",
        "    for file_path in glob.glob(os.path.join(action_folder, '*.csv')):\n",
        "        df = pd.read_csv(file_path).iloc[:, :fixed_feature_count]\n",
        "        features.append(df)\n",
        "\n",
        "        labels.append(action)\n",
        "\n",
        "data = pd.concat(features, axis=0, ignore_index=True)\n",
        "\n",
        "data = data.iloc[:len(labels)]\n",
        "\n",
        "labels_df = pd.DataFrame(labels, columns=['label'])\n",
        "\n",
        "X_train, X_test, y_train, y_test = train_test_split(data, labels_df, test_size=0.2, random_state=42)\n"
      ],
      "metadata": {
        "id": "ZRU8buVnuSSK"
      },
      "execution_count": 37,
      "outputs": []
    },
    {
      "cell_type": "code",
      "source": [
        "# scaler = StandardScaler()\n",
        "# X_train_scaled = scaler.fit_transform(X_train)\n",
        "# X_test_scaled = scaler.transform(X_test)\n",
        "X_train_scaled, X_test_scaled = X_train, X_test"
      ],
      "metadata": {
        "id": "01qIGJzJEGyk"
      },
      "execution_count": 38,
      "outputs": []
    },
    {
      "cell_type": "code",
      "source": [
        "svm_model = SVC()\n",
        "svm_model.fit(X_train_scaled, y_train)\n",
        "\n",
        "rf_model = RandomForestClassifier()\n",
        "rf_model.fit(X_train_scaled, y_train)"
      ],
      "metadata": {
        "colab": {
          "base_uri": "https://localhost:8080/",
          "height": 164
        },
        "id": "Zl9SSc7rwkXA",
        "outputId": "33f9ea02-541b-4b52-bff1-c9747c632967"
      },
      "execution_count": 39,
      "outputs": [
        {
          "output_type": "stream",
          "name": "stderr",
          "text": [
            "/usr/local/lib/python3.10/dist-packages/sklearn/utils/validation.py:1143: DataConversionWarning: A column-vector y was passed when a 1d array was expected. Please change the shape of y to (n_samples, ), for example using ravel().\n",
            "  y = column_or_1d(y, warn=True)\n",
            "<ipython-input-39-ae2f747709b4>:5: DataConversionWarning: A column-vector y was passed when a 1d array was expected. Please change the shape of y to (n_samples,), for example using ravel().\n",
            "  rf_model.fit(X_train_scaled, y_train)\n"
          ]
        },
        {
          "output_type": "execute_result",
          "data": {
            "text/plain": [
              "RandomForestClassifier()"
            ],
            "text/html": [
              "<style>#sk-container-id-3 {color: black;background-color: white;}#sk-container-id-3 pre{padding: 0;}#sk-container-id-3 div.sk-toggleable {background-color: white;}#sk-container-id-3 label.sk-toggleable__label {cursor: pointer;display: block;width: 100%;margin-bottom: 0;padding: 0.3em;box-sizing: border-box;text-align: center;}#sk-container-id-3 label.sk-toggleable__label-arrow:before {content: \"▸\";float: left;margin-right: 0.25em;color: #696969;}#sk-container-id-3 label.sk-toggleable__label-arrow:hover:before {color: black;}#sk-container-id-3 div.sk-estimator:hover label.sk-toggleable__label-arrow:before {color: black;}#sk-container-id-3 div.sk-toggleable__content {max-height: 0;max-width: 0;overflow: hidden;text-align: left;background-color: #f0f8ff;}#sk-container-id-3 div.sk-toggleable__content pre {margin: 0.2em;color: black;border-radius: 0.25em;background-color: #f0f8ff;}#sk-container-id-3 input.sk-toggleable__control:checked~div.sk-toggleable__content {max-height: 200px;max-width: 100%;overflow: auto;}#sk-container-id-3 input.sk-toggleable__control:checked~label.sk-toggleable__label-arrow:before {content: \"▾\";}#sk-container-id-3 div.sk-estimator input.sk-toggleable__control:checked~label.sk-toggleable__label {background-color: #d4ebff;}#sk-container-id-3 div.sk-label input.sk-toggleable__control:checked~label.sk-toggleable__label {background-color: #d4ebff;}#sk-container-id-3 input.sk-hidden--visually {border: 0;clip: rect(1px 1px 1px 1px);clip: rect(1px, 1px, 1px, 1px);height: 1px;margin: -1px;overflow: hidden;padding: 0;position: absolute;width: 1px;}#sk-container-id-3 div.sk-estimator {font-family: monospace;background-color: #f0f8ff;border: 1px dotted black;border-radius: 0.25em;box-sizing: border-box;margin-bottom: 0.5em;}#sk-container-id-3 div.sk-estimator:hover {background-color: #d4ebff;}#sk-container-id-3 div.sk-parallel-item::after {content: \"\";width: 100%;border-bottom: 1px solid gray;flex-grow: 1;}#sk-container-id-3 div.sk-label:hover label.sk-toggleable__label {background-color: #d4ebff;}#sk-container-id-3 div.sk-serial::before {content: \"\";position: absolute;border-left: 1px solid gray;box-sizing: border-box;top: 0;bottom: 0;left: 50%;z-index: 0;}#sk-container-id-3 div.sk-serial {display: flex;flex-direction: column;align-items: center;background-color: white;padding-right: 0.2em;padding-left: 0.2em;position: relative;}#sk-container-id-3 div.sk-item {position: relative;z-index: 1;}#sk-container-id-3 div.sk-parallel {display: flex;align-items: stretch;justify-content: center;background-color: white;position: relative;}#sk-container-id-3 div.sk-item::before, #sk-container-id-3 div.sk-parallel-item::before {content: \"\";position: absolute;border-left: 1px solid gray;box-sizing: border-box;top: 0;bottom: 0;left: 50%;z-index: -1;}#sk-container-id-3 div.sk-parallel-item {display: flex;flex-direction: column;z-index: 1;position: relative;background-color: white;}#sk-container-id-3 div.sk-parallel-item:first-child::after {align-self: flex-end;width: 50%;}#sk-container-id-3 div.sk-parallel-item:last-child::after {align-self: flex-start;width: 50%;}#sk-container-id-3 div.sk-parallel-item:only-child::after {width: 0;}#sk-container-id-3 div.sk-dashed-wrapped {border: 1px dashed gray;margin: 0 0.4em 0.5em 0.4em;box-sizing: border-box;padding-bottom: 0.4em;background-color: white;}#sk-container-id-3 div.sk-label label {font-family: monospace;font-weight: bold;display: inline-block;line-height: 1.2em;}#sk-container-id-3 div.sk-label-container {text-align: center;}#sk-container-id-3 div.sk-container {/* jupyter's `normalize.less` sets `[hidden] { display: none; }` but bootstrap.min.css set `[hidden] { display: none !important; }` so we also need the `!important` here to be able to override the default hidden behavior on the sphinx rendered scikit-learn.org. See: https://github.com/scikit-learn/scikit-learn/issues/21755 */display: inline-block !important;position: relative;}#sk-container-id-3 div.sk-text-repr-fallback {display: none;}</style><div id=\"sk-container-id-3\" class=\"sk-top-container\"><div class=\"sk-text-repr-fallback\"><pre>RandomForestClassifier()</pre><b>In a Jupyter environment, please rerun this cell to show the HTML representation or trust the notebook. <br />On GitHub, the HTML representation is unable to render, please try loading this page with nbviewer.org.</b></div><div class=\"sk-container\" hidden><div class=\"sk-item\"><div class=\"sk-estimator sk-toggleable\"><input class=\"sk-toggleable__control sk-hidden--visually\" id=\"sk-estimator-id-3\" type=\"checkbox\" checked><label for=\"sk-estimator-id-3\" class=\"sk-toggleable__label sk-toggleable__label-arrow\">RandomForestClassifier</label><div class=\"sk-toggleable__content\"><pre>RandomForestClassifier()</pre></div></div></div></div></div>"
            ]
          },
          "metadata": {},
          "execution_count": 39
        }
      ]
    },
    {
      "cell_type": "code",
      "source": [
        "svm_predictions = svm_model.predict(X_test_scaled)\n",
        "print(\"SVM Classification Report:\\n\", classification_report(y_test, svm_predictions))\n",
        "\n",
        "rf_predictions = rf_model.predict(X_test_scaled)\n",
        "print(\"Random Forest Classification Report:\\n\", classification_report(y_test, rf_predictions))"
      ],
      "metadata": {
        "colab": {
          "base_uri": "https://localhost:8080/"
        },
        "id": "LjrchXbmxKmo",
        "outputId": "a651623b-543b-453a-aa51-5329dd75c81f"
      },
      "execution_count": 40,
      "outputs": [
        {
          "output_type": "stream",
          "name": "stdout",
          "text": [
            "SVM Classification Report:\n",
            "               precision    recall  f1-score   support\n",
            "\n",
            "        idle       0.00      0.00      0.00       220\n",
            "     running       0.53      1.00      0.69       689\n",
            "      stairs       0.00      0.00      0.00        30\n",
            "     walking       0.00      0.00      0.00       354\n",
            "\n",
            "    accuracy                           0.53      1293\n",
            "   macro avg       0.13      0.25      0.17      1293\n",
            "weighted avg       0.28      0.53      0.37      1293\n",
            "\n",
            "Random Forest Classification Report:\n",
            "               precision    recall  f1-score   support\n",
            "\n",
            "        idle       0.13      0.09      0.11       220\n",
            "     running       0.54      0.64      0.59       689\n",
            "      stairs       0.00      0.00      0.00        30\n",
            "     walking       0.24      0.21      0.23       354\n",
            "\n",
            "    accuracy                           0.41      1293\n",
            "   macro avg       0.23      0.23      0.23      1293\n",
            "weighted avg       0.38      0.41      0.39      1293\n",
            "\n"
          ]
        },
        {
          "output_type": "stream",
          "name": "stderr",
          "text": [
            "/usr/local/lib/python3.10/dist-packages/sklearn/metrics/_classification.py:1344: UndefinedMetricWarning: Precision and F-score are ill-defined and being set to 0.0 in labels with no predicted samples. Use `zero_division` parameter to control this behavior.\n",
            "  _warn_prf(average, modifier, msg_start, len(result))\n",
            "/usr/local/lib/python3.10/dist-packages/sklearn/metrics/_classification.py:1344: UndefinedMetricWarning: Precision and F-score are ill-defined and being set to 0.0 in labels with no predicted samples. Use `zero_division` parameter to control this behavior.\n",
            "  _warn_prf(average, modifier, msg_start, len(result))\n",
            "/usr/local/lib/python3.10/dist-packages/sklearn/metrics/_classification.py:1344: UndefinedMetricWarning: Precision and F-score are ill-defined and being set to 0.0 in labels with no predicted samples. Use `zero_division` parameter to control this behavior.\n",
            "  _warn_prf(average, modifier, msg_start, len(result))\n"
          ]
        }
      ]
    }
  ]
}