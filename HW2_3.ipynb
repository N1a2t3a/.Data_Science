{
  "nbformat": 4,
  "nbformat_minor": 0,
  "metadata": {
    "colab": {
      "provenance": [],
      "authorship_tag": "ABX9TyPQkH3nWBnLotY8mB6/U0cZ",
      "include_colab_link": true
    },
    "kernelspec": {
      "name": "python3",
      "display_name": "Python 3"
    },
    "language_info": {
      "name": "python"
    }
  },
  "cells": [
    {
      "cell_type": "markdown",
      "metadata": {
        "id": "view-in-github",
        "colab_type": "text"
      },
      "source": [
        "<a href=\"https://colab.research.google.com/github/N1a2t3a/.Data_Science/blob/main/HW2_3.ipynb\" target=\"_parent\"><img src=\"https://colab.research.google.com/assets/colab-badge.svg\" alt=\"Open In Colab\"/></a>"
      ]
    },
    {
      "cell_type": "code",
      "execution_count": 13,
      "metadata": {
        "id": "HgQGv33t5bh0"
      },
      "outputs": [],
      "source": [
        "import pandas as pd\n",
        "import matplotlib.pyplot as plt\n",
        "\n",
        "df = pd.read_csv('bestsellers with categories.csv')"
      ]
    },
    {
      "cell_type": "code",
      "source": [
        "df.columns = ['name', 'author', 'user_rating', 'reviews', 'price', 'year', 'genre']"
      ],
      "metadata": {
        "id": "ZRub7VaE_T9a"
      },
      "execution_count": 46,
      "outputs": []
    },
    {
      "cell_type": "code",
      "source": [
        "df.head()"
      ],
      "metadata": {
        "colab": {
          "base_uri": "https://localhost:8080/",
          "height": 206
        },
        "id": "1-HWYnp_68_p",
        "outputId": "40db8999-b0de-42a5-9934-e240b69025eb"
      },
      "execution_count": 2,
      "outputs": [
        {
          "output_type": "execute_result",
          "data": {
            "text/plain": [
              "                                                Name  \\\n",
              "0                      10-Day Green Smoothie Cleanse   \n",
              "1                                  11/22/63: A Novel   \n",
              "2            12 Rules for Life: An Antidote to Chaos   \n",
              "3                             1984 (Signet Classics)   \n",
              "4  5,000 Awesome Facts (About Everything!) (Natio...   \n",
              "\n",
              "                     Author  User Rating  Reviews  Price  Year        Genre  \n",
              "0                  JJ Smith          4.7    17350      8  2016  Non Fiction  \n",
              "1              Stephen King          4.6     2052     22  2011      Fiction  \n",
              "2        Jordan B. Peterson          4.7    18979     15  2018  Non Fiction  \n",
              "3             George Orwell          4.7    21424      6  2017      Fiction  \n",
              "4  National Geographic Kids          4.8     7665     12  2019  Non Fiction  "
            ],
            "text/html": [
              "\n",
              "  <div id=\"df-1075cddd-6421-4698-b96f-a5f37d0d534e\" class=\"colab-df-container\">\n",
              "    <div>\n",
              "<style scoped>\n",
              "    .dataframe tbody tr th:only-of-type {\n",
              "        vertical-align: middle;\n",
              "    }\n",
              "\n",
              "    .dataframe tbody tr th {\n",
              "        vertical-align: top;\n",
              "    }\n",
              "\n",
              "    .dataframe thead th {\n",
              "        text-align: right;\n",
              "    }\n",
              "</style>\n",
              "<table border=\"1\" class=\"dataframe\">\n",
              "  <thead>\n",
              "    <tr style=\"text-align: right;\">\n",
              "      <th></th>\n",
              "      <th>Name</th>\n",
              "      <th>Author</th>\n",
              "      <th>User Rating</th>\n",
              "      <th>Reviews</th>\n",
              "      <th>Price</th>\n",
              "      <th>Year</th>\n",
              "      <th>Genre</th>\n",
              "    </tr>\n",
              "  </thead>\n",
              "  <tbody>\n",
              "    <tr>\n",
              "      <th>0</th>\n",
              "      <td>10-Day Green Smoothie Cleanse</td>\n",
              "      <td>JJ Smith</td>\n",
              "      <td>4.7</td>\n",
              "      <td>17350</td>\n",
              "      <td>8</td>\n",
              "      <td>2016</td>\n",
              "      <td>Non Fiction</td>\n",
              "    </tr>\n",
              "    <tr>\n",
              "      <th>1</th>\n",
              "      <td>11/22/63: A Novel</td>\n",
              "      <td>Stephen King</td>\n",
              "      <td>4.6</td>\n",
              "      <td>2052</td>\n",
              "      <td>22</td>\n",
              "      <td>2011</td>\n",
              "      <td>Fiction</td>\n",
              "    </tr>\n",
              "    <tr>\n",
              "      <th>2</th>\n",
              "      <td>12 Rules for Life: An Antidote to Chaos</td>\n",
              "      <td>Jordan B. Peterson</td>\n",
              "      <td>4.7</td>\n",
              "      <td>18979</td>\n",
              "      <td>15</td>\n",
              "      <td>2018</td>\n",
              "      <td>Non Fiction</td>\n",
              "    </tr>\n",
              "    <tr>\n",
              "      <th>3</th>\n",
              "      <td>1984 (Signet Classics)</td>\n",
              "      <td>George Orwell</td>\n",
              "      <td>4.7</td>\n",
              "      <td>21424</td>\n",
              "      <td>6</td>\n",
              "      <td>2017</td>\n",
              "      <td>Fiction</td>\n",
              "    </tr>\n",
              "    <tr>\n",
              "      <th>4</th>\n",
              "      <td>5,000 Awesome Facts (About Everything!) (Natio...</td>\n",
              "      <td>National Geographic Kids</td>\n",
              "      <td>4.8</td>\n",
              "      <td>7665</td>\n",
              "      <td>12</td>\n",
              "      <td>2019</td>\n",
              "      <td>Non Fiction</td>\n",
              "    </tr>\n",
              "  </tbody>\n",
              "</table>\n",
              "</div>\n",
              "    <div class=\"colab-df-buttons\">\n",
              "\n",
              "  <div class=\"colab-df-container\">\n",
              "    <button class=\"colab-df-convert\" onclick=\"convertToInteractive('df-1075cddd-6421-4698-b96f-a5f37d0d534e')\"\n",
              "            title=\"Convert this dataframe to an interactive table.\"\n",
              "            style=\"display:none;\">\n",
              "\n",
              "  <svg xmlns=\"http://www.w3.org/2000/svg\" height=\"24px\" viewBox=\"0 -960 960 960\">\n",
              "    <path d=\"M120-120v-720h720v720H120Zm60-500h600v-160H180v160Zm220 220h160v-160H400v160Zm0 220h160v-160H400v160ZM180-400h160v-160H180v160Zm440 0h160v-160H620v160ZM180-180h160v-160H180v160Zm440 0h160v-160H620v160Z\"/>\n",
              "  </svg>\n",
              "    </button>\n",
              "\n",
              "  <style>\n",
              "    .colab-df-container {\n",
              "      display:flex;\n",
              "      gap: 12px;\n",
              "    }\n",
              "\n",
              "    .colab-df-convert {\n",
              "      background-color: #E8F0FE;\n",
              "      border: none;\n",
              "      border-radius: 50%;\n",
              "      cursor: pointer;\n",
              "      display: none;\n",
              "      fill: #1967D2;\n",
              "      height: 32px;\n",
              "      padding: 0 0 0 0;\n",
              "      width: 32px;\n",
              "    }\n",
              "\n",
              "    .colab-df-convert:hover {\n",
              "      background-color: #E2EBFA;\n",
              "      box-shadow: 0px 1px 2px rgba(60, 64, 67, 0.3), 0px 1px 3px 1px rgba(60, 64, 67, 0.15);\n",
              "      fill: #174EA6;\n",
              "    }\n",
              "\n",
              "    .colab-df-buttons div {\n",
              "      margin-bottom: 4px;\n",
              "    }\n",
              "\n",
              "    [theme=dark] .colab-df-convert {\n",
              "      background-color: #3B4455;\n",
              "      fill: #D2E3FC;\n",
              "    }\n",
              "\n",
              "    [theme=dark] .colab-df-convert:hover {\n",
              "      background-color: #434B5C;\n",
              "      box-shadow: 0px 1px 3px 1px rgba(0, 0, 0, 0.15);\n",
              "      filter: drop-shadow(0px 1px 2px rgba(0, 0, 0, 0.3));\n",
              "      fill: #FFFFFF;\n",
              "    }\n",
              "  </style>\n",
              "\n",
              "    <script>\n",
              "      const buttonEl =\n",
              "        document.querySelector('#df-1075cddd-6421-4698-b96f-a5f37d0d534e button.colab-df-convert');\n",
              "      buttonEl.style.display =\n",
              "        google.colab.kernel.accessAllowed ? 'block' : 'none';\n",
              "\n",
              "      async function convertToInteractive(key) {\n",
              "        const element = document.querySelector('#df-1075cddd-6421-4698-b96f-a5f37d0d534e');\n",
              "        const dataTable =\n",
              "          await google.colab.kernel.invokeFunction('convertToInteractive',\n",
              "                                                    [key], {});\n",
              "        if (!dataTable) return;\n",
              "\n",
              "        const docLinkHtml = 'Like what you see? Visit the ' +\n",
              "          '<a target=\"_blank\" href=https://colab.research.google.com/notebooks/data_table.ipynb>data table notebook</a>'\n",
              "          + ' to learn more about interactive tables.';\n",
              "        element.innerHTML = '';\n",
              "        dataTable['output_type'] = 'display_data';\n",
              "        await google.colab.output.renderOutput(dataTable, element);\n",
              "        const docLink = document.createElement('div');\n",
              "        docLink.innerHTML = docLinkHtml;\n",
              "        element.appendChild(docLink);\n",
              "      }\n",
              "    </script>\n",
              "  </div>\n",
              "\n",
              "\n",
              "<div id=\"df-fd23d0b7-7c5a-4c9f-9e13-62a6ed710936\">\n",
              "  <button class=\"colab-df-quickchart\" onclick=\"quickchart('df-fd23d0b7-7c5a-4c9f-9e13-62a6ed710936')\"\n",
              "            title=\"Suggest charts\"\n",
              "            style=\"display:none;\">\n",
              "\n",
              "<svg xmlns=\"http://www.w3.org/2000/svg\" height=\"24px\"viewBox=\"0 0 24 24\"\n",
              "     width=\"24px\">\n",
              "    <g>\n",
              "        <path d=\"M19 3H5c-1.1 0-2 .9-2 2v14c0 1.1.9 2 2 2h14c1.1 0 2-.9 2-2V5c0-1.1-.9-2-2-2zM9 17H7v-7h2v7zm4 0h-2V7h2v10zm4 0h-2v-4h2v4z\"/>\n",
              "    </g>\n",
              "</svg>\n",
              "  </button>\n",
              "\n",
              "<style>\n",
              "  .colab-df-quickchart {\n",
              "      --bg-color: #E8F0FE;\n",
              "      --fill-color: #1967D2;\n",
              "      --hover-bg-color: #E2EBFA;\n",
              "      --hover-fill-color: #174EA6;\n",
              "      --disabled-fill-color: #AAA;\n",
              "      --disabled-bg-color: #DDD;\n",
              "  }\n",
              "\n",
              "  [theme=dark] .colab-df-quickchart {\n",
              "      --bg-color: #3B4455;\n",
              "      --fill-color: #D2E3FC;\n",
              "      --hover-bg-color: #434B5C;\n",
              "      --hover-fill-color: #FFFFFF;\n",
              "      --disabled-bg-color: #3B4455;\n",
              "      --disabled-fill-color: #666;\n",
              "  }\n",
              "\n",
              "  .colab-df-quickchart {\n",
              "    background-color: var(--bg-color);\n",
              "    border: none;\n",
              "    border-radius: 50%;\n",
              "    cursor: pointer;\n",
              "    display: none;\n",
              "    fill: var(--fill-color);\n",
              "    height: 32px;\n",
              "    padding: 0;\n",
              "    width: 32px;\n",
              "  }\n",
              "\n",
              "  .colab-df-quickchart:hover {\n",
              "    background-color: var(--hover-bg-color);\n",
              "    box-shadow: 0 1px 2px rgba(60, 64, 67, 0.3), 0 1px 3px 1px rgba(60, 64, 67, 0.15);\n",
              "    fill: var(--button-hover-fill-color);\n",
              "  }\n",
              "\n",
              "  .colab-df-quickchart-complete:disabled,\n",
              "  .colab-df-quickchart-complete:disabled:hover {\n",
              "    background-color: var(--disabled-bg-color);\n",
              "    fill: var(--disabled-fill-color);\n",
              "    box-shadow: none;\n",
              "  }\n",
              "\n",
              "  .colab-df-spinner {\n",
              "    border: 2px solid var(--fill-color);\n",
              "    border-color: transparent;\n",
              "    border-bottom-color: var(--fill-color);\n",
              "    animation:\n",
              "      spin 1s steps(1) infinite;\n",
              "  }\n",
              "\n",
              "  @keyframes spin {\n",
              "    0% {\n",
              "      border-color: transparent;\n",
              "      border-bottom-color: var(--fill-color);\n",
              "      border-left-color: var(--fill-color);\n",
              "    }\n",
              "    20% {\n",
              "      border-color: transparent;\n",
              "      border-left-color: var(--fill-color);\n",
              "      border-top-color: var(--fill-color);\n",
              "    }\n",
              "    30% {\n",
              "      border-color: transparent;\n",
              "      border-left-color: var(--fill-color);\n",
              "      border-top-color: var(--fill-color);\n",
              "      border-right-color: var(--fill-color);\n",
              "    }\n",
              "    40% {\n",
              "      border-color: transparent;\n",
              "      border-right-color: var(--fill-color);\n",
              "      border-top-color: var(--fill-color);\n",
              "    }\n",
              "    60% {\n",
              "      border-color: transparent;\n",
              "      border-right-color: var(--fill-color);\n",
              "    }\n",
              "    80% {\n",
              "      border-color: transparent;\n",
              "      border-right-color: var(--fill-color);\n",
              "      border-bottom-color: var(--fill-color);\n",
              "    }\n",
              "    90% {\n",
              "      border-color: transparent;\n",
              "      border-bottom-color: var(--fill-color);\n",
              "    }\n",
              "  }\n",
              "</style>\n",
              "\n",
              "  <script>\n",
              "    async function quickchart(key) {\n",
              "      const quickchartButtonEl =\n",
              "        document.querySelector('#' + key + ' button');\n",
              "      quickchartButtonEl.disabled = true;  // To prevent multiple clicks.\n",
              "      quickchartButtonEl.classList.add('colab-df-spinner');\n",
              "      try {\n",
              "        const charts = await google.colab.kernel.invokeFunction(\n",
              "            'suggestCharts', [key], {});\n",
              "      } catch (error) {\n",
              "        console.error('Error during call to suggestCharts:', error);\n",
              "      }\n",
              "      quickchartButtonEl.classList.remove('colab-df-spinner');\n",
              "      quickchartButtonEl.classList.add('colab-df-quickchart-complete');\n",
              "    }\n",
              "    (() => {\n",
              "      let quickchartButtonEl =\n",
              "        document.querySelector('#df-fd23d0b7-7c5a-4c9f-9e13-62a6ed710936 button');\n",
              "      quickchartButtonEl.style.display =\n",
              "        google.colab.kernel.accessAllowed ? 'block' : 'none';\n",
              "    })();\n",
              "  </script>\n",
              "</div>\n",
              "    </div>\n",
              "  </div>\n"
            ]
          },
          "metadata": {},
          "execution_count": 2
        }
      ]
    },
    {
      "cell_type": "code",
      "source": [
        "df.shape"
      ],
      "metadata": {
        "colab": {
          "base_uri": "https://localhost:8080/"
        },
        "id": "jFNsSoHF7C0g",
        "outputId": "02b50307-f0c3-49bb-ffb2-57ec44503dfd"
      },
      "execution_count": 3,
      "outputs": [
        {
          "output_type": "execute_result",
          "data": {
            "text/plain": [
              "(550, 7)"
            ]
          },
          "metadata": {},
          "execution_count": 3
        }
      ]
    },
    {
      "cell_type": "markdown",
      "source": [
        "Про скільки книг зберігає дані датасет? Відповідь: 50"
      ],
      "metadata": {
        "id": "02fHJ5Rx7Vdl"
      }
    },
    {
      "cell_type": "code",
      "source": [
        "missing_values = df.isna().sum()\n",
        "print(missing_values)"
      ],
      "metadata": {
        "colab": {
          "base_uri": "https://localhost:8080/"
        },
        "id": "Ou5T7s0q7ul4",
        "outputId": "d754d23d-6558-4575-9027-7b9561edd906"
      },
      "execution_count": 4,
      "outputs": [
        {
          "output_type": "stream",
          "name": "stdout",
          "text": [
            "Name           0\n",
            "Author         0\n",
            "User Rating    0\n",
            "Reviews        0\n",
            "Price          0\n",
            "Year           0\n",
            "Genre          0\n",
            "dtype: int64\n"
          ]
        }
      ]
    },
    {
      "cell_type": "markdown",
      "source": [
        "Чи є в якихось змінних пропуски? Відповідь: Ні"
      ],
      "metadata": {
        "id": "4PqRcYh28ihr"
      }
    },
    {
      "cell_type": "code",
      "source": [
        "df['genre'].unique()"
      ],
      "metadata": {
        "colab": {
          "base_uri": "https://localhost:8080/"
        },
        "id": "Ki9lB8Zo950j",
        "outputId": "9ca4fbf6-3e45-4664-f7d9-9d2eb61380fc"
      },
      "execution_count": 12,
      "outputs": [
        {
          "output_type": "execute_result",
          "data": {
            "text/plain": [
              "array(['Non Fiction', 'Fiction'], dtype=object)"
            ]
          },
          "metadata": {},
          "execution_count": 12
        }
      ]
    },
    {
      "cell_type": "markdown",
      "source": [
        "Які є унікальні жанри? Відповідь: Non Fiction, Fiction"
      ],
      "metadata": {
        "id": "3xBw1CB4_nDv"
      }
    },
    {
      "cell_type": "code",
      "source": [
        "df['price'].plot(kind='hist')\n",
        "plt.show()"
      ],
      "metadata": {
        "colab": {
          "base_uri": "https://localhost:8080/",
          "height": 430
        },
        "id": "PJF5wjU9_5Wv",
        "outputId": "ddbded77-1434-4bd5-b67e-41cfd34ecae3"
      },
      "execution_count": 29,
      "outputs": [
        {
          "output_type": "display_data",
          "data": {
            "text/plain": [
              "<Figure size 640x480 with 1 Axes>"
            ],
            "image/png": "[encoded data removed]"
          },
          "metadata": {}
        }
      ]
    },
    {
      "cell_type": "code",
      "source": [
        "df['price'].max(), df['price'].min(), df['price'].mean(), df['price'].median()"
      ],
      "metadata": {
        "colab": {
          "base_uri": "https://localhost:8080/"
        },
        "id": "AU5JyMfYBbn2",
        "outputId": "c223bba2-5bcc-451f-b14a-d927fcc797c0"
      },
      "execution_count": 20,
      "outputs": [
        {
          "output_type": "execute_result",
          "data": {
            "text/plain": [
              "(105, 0, 13.1, 11.0)"
            ]
          },
          "metadata": {},
          "execution_count": 20
        }
      ]
    },
    {
      "cell_type": "markdown",
      "source": [
        "Максимальна ціна? Відповідь: 105"
      ],
      "metadata": {
        "id": "OPA0aM7ECNpc"
      }
    },
    {
      "cell_type": "markdown",
      "source": [
        "Мінімальна ціна? Відповідь: 0"
      ],
      "metadata": {
        "id": "A9ADTXZRCUyc"
      }
    },
    {
      "cell_type": "markdown",
      "source": [
        "Середня ціна? Відповідь: 13.1"
      ],
      "metadata": {
        "id": "zawWyN_sCdZk"
      }
    },
    {
      "cell_type": "markdown",
      "source": [
        "Медіанна ціна? Відповідь: 11.0"
      ],
      "metadata": {
        "id": "suOhdMP1CnPz"
      }
    },
    {
      "cell_type": "markdown",
      "source": [
        " Який рейтинг у датасеті найвищий? Відповідь: 4.9"
      ],
      "metadata": {
        "id": "WwkxRhnbC7WP"
      }
    },
    {
      "cell_type": "code",
      "source": [
        "df['user_rating'].max()"
      ],
      "metadata": {
        "colab": {
          "base_uri": "https://localhost:8080/"
        },
        "id": "u8Q0y0QcFV3_",
        "outputId": "077a08b2-a926-4d2a-c985-9a7e0163f467"
      },
      "execution_count": 26,
      "outputs": [
        {
          "output_type": "execute_result",
          "data": {
            "text/plain": [
              "4.9"
            ]
          },
          "metadata": {},
          "execution_count": 26
        }
      ]
    },
    {
      "cell_type": "markdown",
      "source": [
        "Скільки книг мають такий рейтинг? Відповідь: 52"
      ],
      "metadata": {
        "id": "bBTfxNSpD9CU"
      }
    },
    {
      "cell_type": "code",
      "source": [
        "len(df[df['user_rating'] == df['user_rating'].max()])"
      ],
      "metadata": {
        "colab": {
          "base_uri": "https://localhost:8080/"
        },
        "id": "rNGRy4XnFNzQ",
        "outputId": "c9d09cfd-4f70-4e3a-e53d-ed29ee666d96"
      },
      "execution_count": 25,
      "outputs": [
        {
          "output_type": "execute_result",
          "data": {
            "text/plain": [
              "52"
            ]
          },
          "metadata": {},
          "execution_count": 25
        }
      ]
    },
    {
      "cell_type": "markdown",
      "source": [
        "З тих книг, що потрапили до Топ-50 у 2015 році, яка книга найдорожча (можна використати проміжний датафрейм)? Відповідь: 277  Publication Manual of the American Psychologic..."
      ],
      "metadata": {
        "id": "vLiO3SdCEZnm"
      }
    },
    {
      "cell_type": "code",
      "source": [
        "top_books_2015 = df[df['year'] == 2015]\n",
        "\n",
        "most_expensive_2015 = top_books_2015[top_books_2015['price'] == top_books_2015['price'].max()]\n",
        "\n",
        "print(most_expensive_2015[['name', 'price']])"
      ],
      "metadata": {
        "colab": {
          "base_uri": "https://localhost:8080/"
        },
        "id": "Ki6rigKTExWg",
        "outputId": "7689d39f-1917-4d13-bc88-20a13ae3ec23"
      },
      "execution_count": 24,
      "outputs": [
        {
          "output_type": "stream",
          "name": "stdout",
          "text": [
            "                                                  name  price\n",
            "277  Publication Manual of the American Psychologic...     46\n"
          ]
        }
      ]
    },
    {
      "cell_type": "markdown",
      "source": [
        "Скільки книг жанру Fiction потрапили до Топ-50 у 2010 році (використовуйте &)? Відповідь: 20"
      ],
      "metadata": {
        "id": "VnJF-pfTFg6L"
      }
    },
    {
      "cell_type": "code",
      "source": [
        "fiction_2010 = df[(df['year'] == 2010) & (df['genre'] == 'Fiction')]\n",
        "\n",
        "count_fiction_2010 = len(fiction_2010)\n",
        "\n",
        "print(count_fiction_2010)"
      ],
      "metadata": {
        "colab": {
          "base_uri": "https://localhost:8080/"
        },
        "id": "yDN2dHCZFi4H",
        "outputId": "d68dc025-6b41-469d-ce8a-533304059673"
      },
      "execution_count": 27,
      "outputs": [
        {
          "output_type": "stream",
          "name": "stdout",
          "text": [
            "20\n"
          ]
        }
      ]
    },
    {
      "cell_type": "markdown",
      "source": [
        "Скільки книг з рейтингом 4.9 потрапило до рейтингу у 2010 та 2011 роках (використовуйте | або функцію isin)? Відповідь: 1"
      ],
      "metadata": {
        "id": "RvY_gxYVF2dD"
      }
    },
    {
      "cell_type": "code",
      "source": [
        "books = df[(df['user_rating'] == 4.9) & ((df['year'] == 2010) | (df['year'] == 2011))]\n",
        "\n",
        "count_books = len(books)\n",
        "\n",
        "print(count_books)"
      ],
      "metadata": {
        "colab": {
          "base_uri": "https://localhost:8080/"
        },
        "id": "L2_QV0Y2F444",
        "outputId": "f0c2e470-9213-4ad6-9a9d-73b38205fbab"
      },
      "execution_count": 31,
      "outputs": [
        {
          "output_type": "stream",
          "name": "stdout",
          "text": [
            "1\n"
          ]
        }
      ]
    },
    {
      "cell_type": "code",
      "source": [
        "books_2015_cheap = df[(df['year'] == 2015) & (df['price'] < 8)]\n",
        "sorted_books_2015_cheap = books_2015_cheap.sort_values(by='price')\n",
        "print(sorted_books_2015_cheap)"
      ],
      "metadata": {
        "colab": {
          "base_uri": "https://localhost:8080/"
        },
        "id": "WlD_lUSJIB4H",
        "outputId": "9b2f0ee9-9f47-48af-b8f2-104ffde41542"
      },
      "execution_count": 34,
      "outputs": [
        {
          "output_type": "stream",
          "name": "stdout",
          "text": [
            "                                                  name              author  \\\n",
            "507                              To Kill a Mockingbird          Harper Lee   \n",
            "210                      Laugh-Out-Loud Jokes for Kids         Rob Elliott   \n",
            "206                         Knock-Knock Jokes for Kids         Rob Elliott   \n",
            "111                                    First 100 Words        Roger Priddy   \n",
            "123                               Giraffes Can't Dance       Giles Andreae   \n",
            "54   Creative Haven Creative Cats Coloring Book (Ad...     Marjorie Sarnat   \n",
            "63                      Dear Zoo: A Lift-the-Flap Book        Rod Campbell   \n",
            "89   Dover Creative Haven Art Nouveau Animal Design...         Marty Noble   \n",
            "478                        The Very Hungry Caterpillar          Eric Carle   \n",
            "201  Killing Reagan: The Violent Assault That Chang...       Bill O'Reilly   \n",
            "28                        Baby Touch and Feel: Animals                  DK   \n",
            "224                                   Love You Forever       Robert Munsch   \n",
            "55   Creative Haven Owls Coloring Book (Adult Color...     Marjorie Sarnat   \n",
            "17      Adult Coloring Book: Stress Relieving Patterns  Blue Star Coloring   \n",
            "376  The Four Agreements: A Practical Guide to Pers...     Don Miguel Ruiz   \n",
            "16   Adult Coloring Book: Stress Relieving Animal D...  Blue Star Coloring   \n",
            "253              Old School (Diary of a Wimpy Kid #10)         Jeff Kinney   \n",
            "\n",
            "     user_rating  reviews  price  year        genre  \n",
            "507          4.8    26234      0  2015      Fiction  \n",
            "210          4.6     6990      4  2015  Non Fiction  \n",
            "206          4.5     3673      4  2015  Non Fiction  \n",
            "111          4.7    17323      4  2015  Non Fiction  \n",
            "123          4.8    14038      4  2015      Fiction  \n",
            "54           4.8     4022      4  2015  Non Fiction  \n",
            "63           4.8    10922      5  2015      Fiction  \n",
            "89           4.6     2134      5  2015  Non Fiction  \n",
            "478          4.9    19546      5  2015      Fiction  \n",
            "201          4.6     5235      5  2015  Non Fiction  \n",
            "28           4.6     5360      5  2015  Non Fiction  \n",
            "224          4.8    18613      5  2015      Fiction  \n",
            "55           4.8     3871      5  2015  Non Fiction  \n",
            "17           4.4     2951      6  2015  Non Fiction  \n",
            "376          4.7    23308      6  2015  Non Fiction  \n",
            "16           4.6     2925      6  2015  Non Fiction  \n",
            "253          4.8     6169      7  2015      Fiction  \n"
          ]
        }
      ]
    },
    {
      "cell_type": "markdown",
      "source": [
        "Яка книга остання у відсортованому списку? Відповідь: Old School (Diary of a Wimpy Kid #10)"
      ],
      "metadata": {
        "id": "CnjERXh0Iy19"
      }
    },
    {
      "cell_type": "code",
      "source": [
        "genre_price_stats = df.groupby('genre')['price'].agg(['min', 'max'])\n",
        "print(genre_price_stats)"
      ],
      "metadata": {
        "colab": {
          "base_uri": "https://localhost:8080/"
        },
        "id": "ThN2tiTmJUIA",
        "outputId": "6562d146-3d37-4d9c-8473-33d247fc9c0e"
      },
      "execution_count": 36,
      "outputs": [
        {
          "output_type": "stream",
          "name": "stdout",
          "text": [
            "             min  max\n",
            "genre                \n",
            "Fiction        0   82\n",
            "Non Fiction    0  105\n"
          ]
        }
      ]
    },
    {
      "cell_type": "markdown",
      "source": [
        "Максимальна ціна для жанру Fiction: Відповідь: 82"
      ],
      "metadata": {
        "id": "fvY2gF9xKPry"
      }
    },
    {
      "cell_type": "markdown",
      "source": [
        "Мінімальна ціна для жанру Fiction: Відповідь: 0"
      ],
      "metadata": {
        "id": "A_geswCiKWRp"
      }
    },
    {
      "cell_type": "markdown",
      "source": [
        "Максимальна ціна для жанру Non Fiction: Відповідь: 105"
      ],
      "metadata": {
        "id": "0Wvyc0-uKXl-"
      }
    },
    {
      "cell_type": "markdown",
      "source": [
        "Мінімальна ціна для жанру Non Fiction: Відповідь: 0"
      ],
      "metadata": {
        "id": "aZKf2bLzKYLy"
      }
    },
    {
      "cell_type": "code",
      "source": [
        "books_per_author = df.groupby('author').agg({'name': 'count'}).reset_index()\n",
        "books_per_author.columns = ['author', 'book_count']\n",
        "\n",
        "table_shape = books_per_author.shape\n",
        "print(table_shape)\n",
        "\n",
        "author_max_books = books_per_author[books_per_author['book_count'] == books_per_author['book_count'].max()]\n",
        "max_books_count = author_max_books['book_count'].iloc[0]\n",
        "print(author_max_books)\n",
        "print(max_books_count)\n"
      ],
      "metadata": {
        "colab": {
          "base_uri": "https://localhost:8080/"
        },
        "id": "JuQsFyrAKuGp",
        "outputId": "06741a15-c267-4b44-a8eb-205b3b30f434"
      },
      "execution_count": 38,
      "outputs": [
        {
          "output_type": "stream",
          "name": "stdout",
          "text": [
            "(248, 2)\n",
            "          author  book_count\n",
            "120  Jeff Kinney          12\n",
            "12\n"
          ]
        }
      ]
    },
    {
      "cell_type": "markdown",
      "source": [
        "Якої розмірності вийшла таблиця? Відповідь: (248, 2)"
      ],
      "metadata": {
        "id": "NK-ry1DdK6i_"
      }
    },
    {
      "cell_type": "markdown",
      "source": [
        "Який автор має найбільше книг? Відповідь: Jeff Kinney"
      ],
      "metadata": {
        "id": "YuvNOYvXK6Br"
      }
    },
    {
      "cell_type": "markdown",
      "source": [
        "Скільки книг цього автора? Відповідь: 12"
      ],
      "metadata": {
        "id": "I99SRKOdK5u6"
      }
    },
    {
      "cell_type": "code",
      "source": [
        "author_avg_rating = df.groupby('author')['user_rating'].agg('mean').reset_index()\n",
        "print(author_avg_rating)"
      ],
      "metadata": {
        "colab": {
          "base_uri": "https://localhost:8080/"
        },
        "id": "84MXhDt0NzWR",
        "outputId": "84842106-b6eb-48f6-fcee-82cdcb30e3ac"
      },
      "execution_count": 40,
      "outputs": [
        {
          "output_type": "stream",
          "name": "stdout",
          "text": [
            "                         author  user_rating\n",
            "0              Abraham Verghese     4.600000\n",
            "1                Adam Gasiewski     4.400000\n",
            "2                 Adam Mansbach     4.800000\n",
            "3                     Adir Levy     4.800000\n",
            "4    Admiral William H. McRaven     4.700000\n",
            "..                          ...          ...\n",
            "243             Walter Isaacson     4.566667\n",
            "244               William Davis     4.400000\n",
            "245            William P. Young     4.600000\n",
            "246            Wizards RPG Team     4.800000\n",
            "247                Zhi Gang Sha     4.600000\n",
            "\n",
            "[248 rows x 2 columns]\n"
          ]
        }
      ]
    },
    {
      "cell_type": "code",
      "source": [
        "min_avg_rating_author = author_avg_rating[author_avg_rating['user_rating'] == author_avg_rating['user_rating'].min()]\n",
        "print(min_avg_rating_author)"
      ],
      "metadata": {
        "colab": {
          "base_uri": "https://localhost:8080/"
        },
        "id": "152GzIDfN-hP",
        "outputId": "5ea84cea-ef38-40d4-b52a-2d4865a91438"
      },
      "execution_count": 41,
      "outputs": [
        {
          "output_type": "stream",
          "name": "stdout",
          "text": [
            "         author  user_rating\n",
            "71  Donna Tartt          3.9\n"
          ]
        }
      ]
    },
    {
      "cell_type": "markdown",
      "source": [
        "У якого автора середній рейтинг мінімальний? Відповідь: Donna Tartt"
      ],
      "metadata": {
        "id": "GIm6tGByOEmz"
      }
    },
    {
      "cell_type": "markdown",
      "source": [
        "Який у цього автора середній рейтинг? Відповідь: 3.9"
      ],
      "metadata": {
        "id": "VARlf7riOEW1"
      }
    },
    {
      "cell_type": "code",
      "source": [
        "author_books_ratings = pd.concat([books_per_author.set_index('author'), author_avg_rating.set_index('author')], axis=1)\n",
        "print(author_books_ratings)"
      ],
      "metadata": {
        "colab": {
          "base_uri": "https://localhost:8080/"
        },
        "id": "L46gedYfO5SD",
        "outputId": "9817f9af-0b28-4ce9-e91d-26040814233a"
      },
      "execution_count": 43,
      "outputs": [
        {
          "output_type": "stream",
          "name": "stdout",
          "text": [
            "                            book_count  user_rating\n",
            "author                                             \n",
            "Abraham Verghese                     2     4.600000\n",
            "Adam Gasiewski                       1     4.400000\n",
            "Adam Mansbach                        1     4.800000\n",
            "Adir Levy                            1     4.800000\n",
            "Admiral William H. McRaven           1     4.700000\n",
            "...                                ...          ...\n",
            "Walter Isaacson                      3     4.566667\n",
            "William Davis                        2     4.400000\n",
            "William P. Young                     2     4.600000\n",
            "Wizards RPG Team                     3     4.800000\n",
            "Zhi Gang Sha                         2     4.600000\n",
            "\n",
            "[248 rows x 2 columns]\n"
          ]
        }
      ]
    },
    {
      "cell_type": "code",
      "source": [
        "author_books_ratings = author_books_ratings.sort_values(by=['book_count', 'user_rating'])\n",
        "\n",
        "print(author_books_ratings)"
      ],
      "metadata": {
        "colab": {
          "base_uri": "https://localhost:8080/"
        },
        "id": "E4R33D66Qv0k",
        "outputId": "d7367d65-671e-4db5-e152-28b6744dd72f"
      },
      "execution_count": 53,
      "outputs": [
        {
          "output_type": "stream",
          "name": "stdout",
          "text": [
            "                                    book_count  user_rating\n",
            "author                                                     \n",
            "Muriel Barbery                               1     4.000000\n",
            "Chris Cleave                                 1     4.100000\n",
            "Ian K. Smith M.D.                            1     4.100000\n",
            "Pierre Dukan                                 1     4.100000\n",
            "Elizabeth Strout                             1     4.200000\n",
            "...                                        ...          ...\n",
            "American Psychological Association          10     4.500000\n",
            "Suzanne Collins                             11     4.663636\n",
            "Gary Chapman                                11     4.736364\n",
            "Rick Riordan                                11     4.772727\n",
            "Jeff Kinney                                 12     4.800000\n",
            "\n",
            "[248 rows x 2 columns]\n"
          ]
        }
      ]
    },
    {
      "cell_type": "markdown",
      "source": [
        "Який автор перший у списку? Відповідь: Muriel Barbery"
      ],
      "metadata": {
        "id": "Qdf5sNtlSeEa"
      }
    },
    {
      "cell_type": "code",
      "source": [
        "import matplotlib.pyplot as plt\n",
        "import pandas as pd\n",
        "%matplotlib inline\n",
        "\n",
        "date = pd.date_range(start='2023-09-01', freq='D', periods=8)\n",
        "plt.plot(date, [23, 17, 17, 16, 15, 14, 17, 20])\n",
        "plt.show()\n"
      ],
      "metadata": {
        "colab": {
          "base_uri": "https://localhost:8080/",
          "height": 430
        },
        "id": "MyHDvn_wZMAO",
        "outputId": "9ee561cc-3874-4d12-9b06-bbb1cf18f47f"
      },
      "execution_count": 70,
      "outputs": [
        {
          "output_type": "display_data",
          "data": {
            "text/plain": [
              "<Figure size 640x480 with 1 Axes>"
            ],
            "image/png": "[encoded data removed]"
          },
          "metadata": {}
        }
      ]
    },
    {
      "cell_type": "code",
      "source": [
        "import matplotlib.pyplot as plt\n",
        "import pandas as pd\n",
        "%matplotlib inline\n",
        "\n",
        "date = pd.date_range(start=\"2023-10-01\", freq=\"D\", periods=8)\n",
        "plt.plot(\n",
        "    date,\n",
        "    [20, 15, 11, 9, 7, 11, 15, 20],\n",
        "    label=\"day temperature\",\n",
        "    linestyle=\"--\",\n",
        "    color=\"#FF5733\",\n",
        "    linewidth=2,\n",
        "    marker=\"D\",\n",
        ")\n",
        "plt.plot(\n",
        "    date,\n",
        "    [19, 11, 16, 11, 10, 10, 11, 16],\n",
        "    label=\"night temperature\",\n",
        "    linestyle=\":\",\n",
        "    color=\"#061358\",\n",
        "    linewidth=2,\n",
        "    marker=\"^\",\n",
        ")\n",
        "plt.ylim(0, 25)\n",
        "plt.xlabel(\"Дата\", fontsize=\"small\", color=\"midnightblue\")\n",
        "plt.ylabel(\"Температура\", fontsize=\"small\", color=\"midnightblue\")\n",
        "plt.title(\"Температура в м. Рівне\", fontsize=15)\n",
        "plt.legend()\n",
        "plt.grid()\n",
        "plt.show()"
      ],
      "metadata": {
        "colab": {
          "base_uri": "https://localhost:8080/",
          "height": 473
        },
        "id": "UkIq3t1Laij4",
        "outputId": "2b1af582-a5a6-4765-a66b-2b3c68c166c6"
      },
      "execution_count": 75,
      "outputs": [
        {
          "output_type": "display_data",
          "data": {
            "text/plain": [
              "<Figure size 640x480 with 1 Axes>"
            ],
            "image/png": "[encoded data removed]"
          },
          "metadata": {}
        }
      ]
    },
    {
      "cell_type": "code",
      "source": [
        "import matplotlib.pyplot as plt\n",
        "%matplotlib inline\n",
        "\n",
        "plt.bar(\n",
        "    [\"США\", \"Китай\", \"Японія\", \"Україна\", \"Велика Британія\"],\n",
        "    [39, 38, 27, 7, 22],\n",
        "    color=[\"b\", \"r\", \"y\", \"c\", \"g\"],\n",
        ")\n",
        "\n",
        "plt.xlabel(\"Країна\", fontsize=\"small\", color=\"midnightblue\")\n",
        "plt.ylabel(\"Кількість\", fontsize=\"small\", color=\"midnightblue\")\n",
        "plt.title(\"Медалісти: Олімпійські перемоги на Літній Олімпіаді 2020\", fontsize=15)\n",
        "plt.show()\n"
      ],
      "metadata": {
        "colab": {
          "base_uri": "https://localhost:8080/",
          "height": 473
        },
        "id": "k-HfFMxMbq5A",
        "outputId": "b5f4af2e-2e85-447b-b2a2-c91a64a0b018"
      },
      "execution_count": 78,
      "outputs": [
        {
          "output_type": "display_data",
          "data": {
            "text/plain": [
              "<Figure size 640x480 with 1 Axes>"
            ],
            "image/png": "[encoded data removed]"
          },
          "metadata": {}
        }
      ]
    }
  ]
}