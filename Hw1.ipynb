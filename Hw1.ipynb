{
  "nbformat": 4,
  "nbformat_minor": 0,
  "metadata": {
    "colab": {
      "provenance": [],
      "authorship_tag": "ABX9TyMRgrWyR0sGx/Jeo4JXEcDn",
      "include_colab_link": true
    },
    "kernelspec": {
      "name": "python3",
      "display_name": "Python 3"
    },
    "language_info": {
      "name": "python"
    }
  },
  "cells": [
    {
      "cell_type": "markdown",
      "metadata": {
        "id": "view-in-github",
        "colab_type": "text"
      },
      "source": [
        "<a href=\"https://colab.research.google.com/github/N1a2t3a/.HW_1/blob/main/Hw1.ipynb\" target=\"_parent\"><img src=\"https://colab.research.google.com/assets/colab-badge.svg\" alt=\"Open In Colab\"/></a>"
      ]
    },
    {
      "cell_type": "code",
      "execution_count": 1,
      "metadata": {
        "id": "-qYkB-j9gdNk",
        "colab": {
          "base_uri": "https://localhost:8080/"
        },
        "outputId": "30cb082f-a79d-4915-b204-bcc6f89dc2f2"
      },
      "outputs": [
        {
          "output_type": "stream",
          "name": "stdout",
          "text": [
            "Requirement already satisfied: numpy in /usr/local/lib/python3.10/dist-packages (1.23.5)\n"
          ]
        }
      ],
      "source": [
        "!pip install numpy\n"
      ]
    },
    {
      "cell_type": "code",
      "source": [
        "import numpy as np\n",
        "\n",
        "vector = np.arange(1, 11)\n",
        "\n",
        "print(vector)"
      ],
      "metadata": {
        "colab": {
          "base_uri": "https://localhost:8080/"
        },
        "id": "NDPjvQEnAwzg",
        "outputId": "53c6d606-a122-424f-fd49-0559a722628f"
      },
      "execution_count": 10,
      "outputs": [
        {
          "output_type": "stream",
          "name": "stdout",
          "text": [
            "[ 1  2  3  4  5  6  7  8  9 10]\n"
          ]
        }
      ]
    },
    {
      "cell_type": "code",
      "source": [
        "import numpy as np\n",
        "\n",
        "matrix = np.zeros((3, 3))\n",
        "\n",
        "print(matrix)"
      ],
      "metadata": {
        "colab": {
          "base_uri": "https://localhost:8080/"
        },
        "id": "nyM3g_e_CPtZ",
        "outputId": "edafe121-6156-42ae-896b-0e94f083bc3b"
      },
      "execution_count": 9,
      "outputs": [
        {
          "output_type": "stream",
          "name": "stdout",
          "text": [
            "[[0. 0. 0.]\n",
            " [0. 0. 0.]\n",
            " [0. 0. 0.]]\n"
          ]
        }
      ]
    },
    {
      "cell_type": "code",
      "source": [
        "import numpy as np\n",
        "\n",
        "random_array = np.random.randint(1, 11, (5, 5))\n",
        "\n",
        "print(random_array)"
      ],
      "metadata": {
        "colab": {
          "base_uri": "https://localhost:8080/"
        },
        "id": "tkaLDfUWEAjA",
        "outputId": "5d5e4c36-3847-440c-f2c2-dd213c0647ba"
      },
      "execution_count": 11,
      "outputs": [
        {
          "output_type": "stream",
          "name": "stdout",
          "text": [
            "[[ 3  9  8  4  7]\n",
            " [ 1  7  1 10  5]\n",
            " [ 9  5  1  8  9]\n",
            " [ 9 10  8  4  8]\n",
            " [ 8  6  7  4  9]]\n"
          ]
        }
      ]
    },
    {
      "cell_type": "code",
      "source": [
        "import numpy as np\n",
        "\n",
        "random_float_array = np.random.rand(4, 4)\n",
        "\n",
        "print(random_float_array)"
      ],
      "metadata": {
        "colab": {
          "base_uri": "https://localhost:8080/"
        },
        "id": "WfycZg2fFVlY",
        "outputId": "abc057f9-c2fe-4008-db25-ac3486e04499"
      },
      "execution_count": 12,
      "outputs": [
        {
          "output_type": "stream",
          "name": "stdout",
          "text": [
            "[[0.8009508  0.56935519 0.31472811 0.50616707]\n",
            " [0.55493206 0.13740074 0.28044597 0.39782142]\n",
            " [0.93484157 0.1251463  0.95528532 0.35234382]\n",
            " [0.64934931 0.74379425 0.98097738 0.78689729]]\n"
          ]
        }
      ]
    },
    {
      "cell_type": "code",
      "source": [
        "import numpy as np\n",
        "\n",
        "array1 = np.random.randint(1, 11, 5)\n",
        "array2 = np.random.randint(1, 11, 5)\n",
        "\n",
        "print(\"Перший масив:\", array1)\n",
        "print(\"Другий масив:\", array2)\n",
        "\n",
        "addition_result = np.add(array1, array2)\n",
        "print(\"Результат додавання:\", addition_result)\n",
        "\n",
        "subtraction_result = np.subtract(array1, array2)\n",
        "print(\"Результат віднімання:\", subtraction_result)\n",
        "\n",
        "multiplication_result = np.multiply(array1, array2)\n",
        "print(\"Результат множення:\", multiplication_result)"
      ],
      "metadata": {
        "colab": {
          "base_uri": "https://localhost:8080/"
        },
        "id": "rPL8luNkFtNG",
        "outputId": "74ef17d9-ee2b-4fbe-8ef5-d2d5bd8cc547"
      },
      "execution_count": 13,
      "outputs": [
        {
          "output_type": "stream",
          "name": "stdout",
          "text": [
            "Перший масив: [ 1 10  6  5  6]\n",
            "Другий масив: [3 9 6 1 7]\n",
            "Результат додавання: [ 4 19 12  6 13]\n",
            "Результат віднімання: [-2  1  0  4 -1]\n",
            "Результат множення: [ 3 90 36  5 42]\n"
          ]
        }
      ]
    },
    {
      "cell_type": "code",
      "source": [
        "import numpy as np\n",
        "\n",
        "vector1 = np.array([1, 2, 3, 4, 5, 6, 7])\n",
        "vector2 = np.array([7, 6, 5, 4, 3, 2, 1])\n",
        "\n",
        "dot_product = np.dot(vector1, vector2)\n",
        "\n",
        "print(dot_product)"
      ],
      "metadata": {
        "colab": {
          "base_uri": "https://localhost:8080/"
        },
        "id": "wKG0-6QgGpNA",
        "outputId": "594565ad-6afd-4595-f123-5330cf3387c5"
      },
      "execution_count": 15,
      "outputs": [
        {
          "output_type": "stream",
          "name": "stdout",
          "text": [
            "84\n"
          ]
        }
      ]
    },
    {
      "cell_type": "code",
      "source": [
        "import numpy as np\n",
        "\n",
        "matrix1 = np.random.randint(1, 11, (2, 2))\n",
        "matrix2 = np.random.randint(1, 11, (2, 3))\n",
        "\n",
        "print(matrix1)\n",
        "print(matrix2)\n",
        "\n",
        "result_matrix = np.dot(matrix1, matrix2)\n",
        "\n",
        "print(result_matrix)"
      ],
      "metadata": {
        "colab": {
          "base_uri": "https://localhost:8080/"
        },
        "id": "XM8YaNVEIbt5",
        "outputId": "a6bdd4f2-058a-4c17-efb9-d26571e123b3"
      },
      "execution_count": 16,
      "outputs": [
        {
          "output_type": "stream",
          "name": "stdout",
          "text": [
            "[[ 7 10]\n",
            " [ 2  2]]\n",
            "[[3 9 3]\n",
            " [8 6 6]]\n",
            "[[101 123  81]\n",
            " [ 22  30  18]]\n"
          ]
        }
      ]
    },
    {
      "cell_type": "code",
      "source": [
        "import numpy as np\n",
        "\n",
        "matrix = np.random.randint(1, 11, (3, 3))\n",
        "print(matrix)\n",
        "\n",
        "try:\n",
        "    inverse_matrix = np.linalg.inv(matrix)\n",
        "    print(inverse_matrix)\n",
        "except np.linalg.LinAlgError:\n",
        "    print(\"\\nЦя матриця є виродженою та не має оберненої матриці.\")"
      ],
      "metadata": {
        "colab": {
          "base_uri": "https://localhost:8080/"
        },
        "id": "opIfh9e7JSp4",
        "outputId": "9fe3edc4-f750-4f2e-edaa-cb7399f65ce6"
      },
      "execution_count": 17,
      "outputs": [
        {
          "output_type": "stream",
          "name": "stdout",
          "text": [
            "[[1 2 9]\n",
            " [8 1 9]\n",
            " [4 8 5]]\n",
            "[[-0.14408602  0.13333333  0.01935484]\n",
            " [-0.00860215 -0.06666667  0.13548387]\n",
            " [ 0.12903226  0.         -0.03225806]]\n"
          ]
        }
      ]
    },
    {
      "cell_type": "code",
      "source": [
        "import numpy as np\n",
        "\n",
        "matrix = np.random.rand(4, 4)\n",
        "print(matrix)\n",
        "\n",
        "transposed_matrix = np.transpose(matrix)\n",
        "print(transposed_matrix)"
      ],
      "metadata": {
        "colab": {
          "base_uri": "https://localhost:8080/"
        },
        "id": "Nca8h-DwJtRf",
        "outputId": "1b9ddffa-c657-4ed1-ea61-3e59afa49729"
      },
      "execution_count": 18,
      "outputs": [
        {
          "output_type": "stream",
          "name": "stdout",
          "text": [
            "[[0.57131885 0.38760007 0.20857283 0.3374379 ]\n",
            " [0.28464252 0.0817012  0.92787558 0.13903948]\n",
            " [0.09881128 0.88597922 0.88233008 0.69467104]\n",
            " [0.6873864  0.14759552 0.99514639 0.22914763]]\n",
            "[[0.57131885 0.28464252 0.09881128 0.6873864 ]\n",
            " [0.38760007 0.0817012  0.88597922 0.14759552]\n",
            " [0.20857283 0.92787558 0.88233008 0.99514639]\n",
            " [0.3374379  0.13903948 0.69467104 0.22914763]]\n"
          ]
        }
      ]
    },
    {
      "cell_type": "code",
      "source": [
        "import numpy as np\n",
        "\n",
        "matrix = np.random.randint(1, 11, (3, 4))\n",
        "\n",
        "vector = np.random.randint(1, 11, 4)\n",
        "\n",
        "print(matrix)\n",
        "print(vector)\n",
        "\n",
        "result = np.dot(matrix, vector)\n",
        "\n",
        "print(result)"
      ],
      "metadata": {
        "colab": {
          "base_uri": "https://localhost:8080/"
        },
        "id": "IC1AxrCnKSWn",
        "outputId": "1bf472dd-a5ff-4d37-920d-e9941304a319"
      },
      "execution_count": 19,
      "outputs": [
        {
          "output_type": "stream",
          "name": "stdout",
          "text": [
            "[[7 1 5 3]\n",
            " [7 9 1 5]\n",
            " [7 3 1 8]]\n",
            "[8 3 7 9]\n",
            "[121 135 144]\n"
          ]
        }
      ]
    },
    {
      "cell_type": "code",
      "source": [
        "import numpy as np\n",
        "\n",
        "matrix = np.random.rand(2, 3)\n",
        "\n",
        "vector = np.random.rand(3)\n",
        "\n",
        "print(matrix)\n",
        "print(vector)\n",
        "\n",
        "result = np.dot(matrix, vector)\n",
        "\n",
        "print(result)"
      ],
      "metadata": {
        "colab": {
          "base_uri": "https://localhost:8080/"
        },
        "id": "pLMHXMLlK-ZJ",
        "outputId": "0de9d5fe-e4ea-4477-afa1-d071ae500423"
      },
      "execution_count": 20,
      "outputs": [
        {
          "output_type": "stream",
          "name": "stdout",
          "text": [
            "[[0.08237784 0.16550127 0.85162542]\n",
            " [0.38207077 0.09306742 0.15834555]]\n",
            "[0.14740798 0.75248051 0.03837993]\n",
            "[0.16936496 0.13242899]\n"
          ]
        }
      ]
    },
    {
      "cell_type": "code",
      "source": [
        "import numpy as np\n",
        "\n",
        "matrix1 = np.random.randint(1, 11, (2, 2))\n",
        "matrix2 = np.random.randint(1, 11, (2, 2))\n",
        "\n",
        "print(matrix1)\n",
        "print(matrix2)\n",
        "\n",
        "result = np.multiply(matrix1, matrix2)\n",
        "\n",
        "print(result)"
      ],
      "metadata": {
        "colab": {
          "base_uri": "https://localhost:8080/"
        },
        "id": "EC_SaQd5LUSX",
        "outputId": "199839e9-4cc1-40fd-f9b6-79fb5ede5a6b"
      },
      "execution_count": 21,
      "outputs": [
        {
          "output_type": "stream",
          "name": "stdout",
          "text": [
            "[[9 7]\n",
            " [6 7]]\n",
            "[[ 5  8]\n",
            " [ 6 10]]\n",
            "[[45 56]\n",
            " [36 70]]\n"
          ]
        }
      ]
    },
    {
      "cell_type": "code",
      "source": [
        "import numpy as np\n",
        "\n",
        "matrix1 = np.random.randint(1, 11, (2, 2))\n",
        "matrix2 = np.random.randint(1, 11, (2, 2))\n",
        "\n",
        "print(matrix1)\n",
        "print(matrix2)\n",
        "\n",
        "result = np.dot(matrix1, matrix2)\n",
        "\n",
        "print(result)"
      ],
      "metadata": {
        "colab": {
          "base_uri": "https://localhost:8080/"
        },
        "id": "_uGJs61QLzCH",
        "outputId": "62c9591e-a3ed-4597-9390-c4f8bbcd853e"
      },
      "execution_count": 22,
      "outputs": [
        {
          "output_type": "stream",
          "name": "stdout",
          "text": [
            "[[10  8]\n",
            " [ 9  9]]\n",
            "[[8 8]\n",
            " [8 7]]\n",
            "[[144 136]\n",
            " [144 135]]\n"
          ]
        }
      ]
    },
    {
      "cell_type": "code",
      "source": [
        "import numpy as np\n",
        "\n",
        "matrix = np.random.randint(1, 101, (5, 5))\n",
        "print(matrix)\n",
        "\n",
        "sum_of_elements = np.sum(matrix)\n",
        "print(sum_of_elements)"
      ],
      "metadata": {
        "colab": {
          "base_uri": "https://localhost:8080/"
        },
        "id": "wnUKMcObMoQS",
        "outputId": "9312257e-765a-4693-de30-48c0e11c52bd"
      },
      "execution_count": 23,
      "outputs": [
        {
          "output_type": "stream",
          "name": "stdout",
          "text": [
            "[[60 33 22 82 99]\n",
            " [37 64 96 57 82]\n",
            " [25 34 12 97 50]\n",
            " [80 66 43 58 10]\n",
            " [68 51 78 76 61]]\n",
            "1441\n"
          ]
        }
      ]
    },
    {
      "cell_type": "code",
      "source": [
        "import numpy as np\n",
        "\n",
        "matrix1 = np.random.randint(1, 11, (4, 4))\n",
        "matrix2 = np.random.randint(1, 11, (4, 4))\n",
        "\n",
        "print(matrix1)\n",
        "print(matrix2)\n",
        "\n",
        "result = np.subtract(matrix1, matrix2)\n",
        "print(result)"
      ],
      "metadata": {
        "colab": {
          "base_uri": "https://localhost:8080/"
        },
        "id": "e12PRWwpNKJW",
        "outputId": "6fea32b1-898f-4a1d-b1a8-c967aa8eb990"
      },
      "execution_count": 24,
      "outputs": [
        {
          "output_type": "stream",
          "name": "stdout",
          "text": [
            "[[4 7 4 7]\n",
            " [4 2 8 5]\n",
            " [8 6 4 4]\n",
            " [1 6 3 4]]\n",
            "[[ 4  1  8  8]\n",
            " [ 6 10  7 10]\n",
            " [ 9  9  4  7]\n",
            " [ 3  1  8  5]]\n",
            "[[ 0  6 -4 -1]\n",
            " [-2 -8  1 -5]\n",
            " [-1 -3  0 -3]\n",
            " [-2  5 -5 -1]]\n"
          ]
        }
      ]
    },
    {
      "cell_type": "code",
      "source": [
        "import numpy as np\n",
        "\n",
        "matrix = np.random.rand(3, 3)\n",
        "print(matrix)\n",
        "\n",
        "row_sums = np.sum(matrix, axis=1, keepdims=True)\n",
        "print(row_sums)"
      ],
      "metadata": {
        "colab": {
          "base_uri": "https://localhost:8080/"
        },
        "id": "0kLPw0vZNj1O",
        "outputId": "51678def-2887-437b-be17-4db0a044390d"
      },
      "execution_count": 25,
      "outputs": [
        {
          "output_type": "stream",
          "name": "stdout",
          "text": [
            "[[0.59241646 0.00721078 0.49414619]\n",
            " [0.6840006  0.28818563 0.89251997]\n",
            " [0.71150275 0.98162776 0.14273881]]\n",
            "[[1.09377343]\n",
            " [1.8647062 ]\n",
            " [1.83586933]]\n"
          ]
        }
      ]
    },
    {
      "cell_type": "code",
      "source": [
        "import numpy as np\n",
        "\n",
        "matrix = np.random.randint(1, 11, (3, 4))\n",
        "print(matrix)\n",
        "\n",
        "squared_matrix = np.square(matrix)\n",
        "print(squared_matrix)"
      ],
      "metadata": {
        "colab": {
          "base_uri": "https://localhost:8080/"
        },
        "id": "6jAFSeauOFYf",
        "outputId": "61ee4fb5-15d2-4c08-a511-3406759b099b"
      },
      "execution_count": 26,
      "outputs": [
        {
          "output_type": "stream",
          "name": "stdout",
          "text": [
            "[[ 3  6  5 10]\n",
            " [ 9  4  8  2]\n",
            " [ 4  5  8  5]]\n",
            "[[  9  36  25 100]\n",
            " [ 81  16  64   4]\n",
            " [ 16  25  64  25]]\n"
          ]
        }
      ]
    },
    {
      "cell_type": "code",
      "source": [
        "import numpy as np\n",
        "\n",
        "vector = np.random.randint(1, 51, 4)\n",
        "print(vector)\n",
        "\n",
        "sqrt_vector = np.sqrt(vector)\n",
        "print(sqrt_vector)"
      ],
      "metadata": {
        "colab": {
          "base_uri": "https://localhost:8080/"
        },
        "id": "JyXX5A9dO2xW",
        "outputId": "e4420136-0041-4b5b-ed41-44d5268eb933"
      },
      "execution_count": 27,
      "outputs": [
        {
          "output_type": "stream",
          "name": "stdout",
          "text": [
            "[37 31 39 49]\n",
            "[6.08276253 5.56776436 6.244998   7.        ]\n"
          ]
        }
      ]
    }
  ]
}