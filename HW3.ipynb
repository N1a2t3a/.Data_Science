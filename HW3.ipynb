{
  "nbformat": 4,
  "nbformat_minor": 0,
  "metadata": {
    "colab": {
      "provenance": [],
      "authorship_tag": "ABX9TyNa0zi9vuJyVoUKKQzC2vb0",
      "include_colab_link": true
    },
    "kernelspec": {
      "name": "python3",
      "display_name": "Python 3"
    },
    "language_info": {
      "name": "python"
    }
  },
  "cells": [
    {
      "cell_type": "markdown",
      "metadata": {
        "id": "view-in-github",
        "colab_type": "text"
      },
      "source": [
        "<a href=\"https://colab.research.google.com/github/N1a2t3a/.Data_Science/blob/main/HW3.ipynb\" target=\"_parent\"><img src=\"https://colab.research.google.com/assets/colab-badge.svg\" alt=\"Open In Colab\"/></a>"
      ]
    },
    {
      "cell_type": "code",
      "source": [
        "import numpy as np\n",
        "from scipy.optimize import minimize\n",
        "\n",
        "def hypothesis(X, w):\n",
        "    predictions = np.dot(X, w)\n",
        "\n",
        "    return predictions"
      ],
      "metadata": {
        "id": "9GrDzv2Tz0Ve"
      },
      "execution_count": 10,
      "outputs": []
    },
    {
      "cell_type": "code",
      "source": [
        "def compute_cost(X, y, w):\n",
        "    m = len(y)\n",
        "    predictions = np.dot(X, w)\n",
        "    errors = predictions - y\n",
        "    cost = np.sum(errors**2) / (2 * m)\n",
        "\n",
        "    return cost\n"
      ],
      "metadata": {
        "id": "BwLKo3hc0OzG"
      },
      "execution_count": 6,
      "outputs": []
    },
    {
      "cell_type": "code",
      "source": [
        "def gradient_descent_step(X, y, w, learning_rate):\n",
        "    m = len(y)\n",
        "    predictions = np.dot(X, w)\n",
        "    errors = predictions - y\n",
        "    gradient = np.dot(X.T, errors) / m\n",
        "    w_updated = w - learning_rate * gradient\n",
        "\n",
        "    return w_updated\n"
      ],
      "metadata": {
        "id": "V1gIkpFp1He_"
      },
      "execution_count": 5,
      "outputs": []
    },
    {
      "cell_type": "code",
      "source": [
        "feature1 = np.array([7420, 8960, 9960, 7500, 7420, 7500, 8580, 16200, 8100])\n",
        "feature2 = np.array([2, 4, 2, 2, 1, 3, 3, 3, 1])\n",
        "feature3 = np.array([4, 4, 3, 4, 4, 3, 4, 5, 4])\n",
        "\n",
        "y = np.array([13300000, 12250000, 12250000, 12215000, 11410000, 10850000, 10150000, 10150000, 9870000])\n",
        "\n",
        "\n",
        "X = np.vstack([feature1, feature2, feature3]).T\n",
        "\n",
        "def cost_function(w, X, y):\n",
        "    m = len(y)\n",
        "    predictions = X.dot(w)\n",
        "    errors = predictions - y\n",
        "    cost = np.sum(errors**2) / (2 * m)\n",
        "    return cost\n",
        "\n",
        "initial_w = np.zeros(X.shape[1])\n",
        "\n",
        "result = minimize(cost_function, initial_w, args=(X, y), method='BFGS')\n",
        "w_optimal = result.x\n",
        "\n",
        "w = np.zeros(X.shape[1])\n",
        "\n",
        "learning_rate = 0.0001\n",
        "\n",
        "iterations = 1000\n",
        "\n",
        "for i in range(iterations):\n",
        "    w = gradient_descent_step(X, y, w, learning_rate)\n",
        "\n",
        "print(\"Найкращі параметри w:\", w_optimal)"
      ],
      "metadata": {
        "colab": {
          "base_uri": "https://localhost:8080/"
        },
        "id": "GqoIZhpS2kx-",
        "outputId": "b228e82c-a2e8-46ed-8451-19e9bc0b0ed2"
      },
      "execution_count": 12,
      "outputs": [
        {
          "output_type": "stream",
          "name": "stdout",
          "text": [
            "Найкращі параметри w: [-3.32689948e+02  8.17150971e+05  3.15334605e+06]\n"
          ]
        },
        {
          "output_type": "stream",
          "name": "stderr",
          "text": [
            "<ipython-input-5-2f46e0acdae4>:6: RuntimeWarning: invalid value encountered in subtract\n",
            "  w_updated = w - learning_rate * gradient\n"
          ]
        }
      ]
    },
    {
      "cell_type": "code",
      "source": [
        "X_transpose = X.T\n",
        "w_analytical = np.linalg.inv(X_transpose.dot(X)).dot(X_transpose).dot(y)\n",
        "\n",
        "print(\"Найкращі параметри w:\", w_analytical)\n"
      ],
      "metadata": {
        "colab": {
          "base_uri": "https://localhost:8080/"
        },
        "id": "B2ovJpaX8eZa",
        "outputId": "1c1dc46d-197c-445a-fa3c-ccc91561f1d1"
      },
      "execution_count": 13,
      "outputs": [
        {
          "output_type": "stream",
          "name": "stdout",
          "text": [
            "Найкращі параметри w: [-3.33612280e+02  8.32300385e+05  3.14464348e+06]\n"
          ]
        }
      ]
    },
    {
      "cell_type": "code",
      "source": [
        "if np.allclose(w_optimal, w_analytical, atol=1e-10):\n",
        "    print(\"Результати співпадають.\")\n",
        "else:\n",
        "    print(\"Результати не співпадають.\")"
      ],
      "metadata": {
        "colab": {
          "base_uri": "https://localhost:8080/"
        },
        "id": "gUo3i7R-9MJ-",
        "outputId": "7d522a26-78ad-468a-cffe-d79019d7c292"
      },
      "execution_count": 14,
      "outputs": [
        {
          "output_type": "stream",
          "name": "stdout",
          "text": [
            "Результати не співпадають.\n"
          ]
        }
      ]
    }
  ]
}