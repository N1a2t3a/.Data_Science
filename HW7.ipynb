{
  "nbformat": 4,
  "nbformat_minor": 0,
  "metadata": {
    "colab": {
      "provenance": [],
      "authorship_tag": "ABX9TyP1NNfzyPiWid6MwVoz/BEk",
      "include_colab_link": true
    },
    "kernelspec": {
      "name": "python3",
      "display_name": "Python 3"
    },
    "language_info": {
      "name": "python"
    }
  },
  "cells": [
    {
      "cell_type": "markdown",
      "metadata": {
        "id": "view-in-github",
        "colab_type": "text"
      },
      "source": [
        "<a href=\"https://colab.research.google.com/github/N1a2t3a/.Data_Science/blob/main/HW7.ipynb\" target=\"_parent\"><img src=\"https://colab.research.google.com/assets/colab-badge.svg\" alt=\"Open In Colab\"/></a>"
      ]
    },
    {
      "cell_type": "code",
      "source": [
        "from surprise import Dataset\n",
        "from surprise import SVD, SVDpp, NMF\n",
        "from surprise.model_selection import cross_validate"
      ],
      "metadata": {
        "id": "MBjLCuhoTuFA"
      },
      "execution_count": 2,
      "outputs": []
    },
    {
      "cell_type": "code",
      "source": [
        "data = Dataset.load_builtin('ml-100k')"
      ],
      "metadata": {
        "colab": {
          "base_uri": "https://localhost:8080/"
        },
        "id": "PLGW-yLKUgMp",
        "outputId": "664681d9-e78b-49f5-b655-42078e11d547"
      },
      "execution_count": 3,
      "outputs": [
        {
          "output_type": "stream",
          "name": "stdout",
          "text": [
            "Dataset ml-100k could not be found. Do you want to download it? [Y/n] Y\n",
            "Trying to download dataset from https://files.grouplens.org/datasets/movielens/ml-100k.zip...\n",
            "Done! Dataset ml-100k has been saved to /root/.surprise_data/ml-100k\n"
          ]
        }
      ]
    },
    {
      "cell_type": "code",
      "source": [
        "algorithms = [SVD(), SVDpp(), NMF()]"
      ],
      "metadata": {
        "id": "A9KdthFNUsQd"
      },
      "execution_count": 7,
      "outputs": []
    },
    {
      "cell_type": "code",
      "source": [
        "results_dict = {}"
      ],
      "metadata": {
        "id": "IEQ0HeeYWLMA"
      },
      "execution_count": 8,
      "outputs": []
    },
    {
      "cell_type": "code",
      "source": [
        "for algorithm in algorithms:\n",
        "    results = cross_validate(algorithm, data, measures=['RMSE', 'MAE'], cv=5, verbose=True)\n",
        "    avg_rmse = sum(results[\"test_rmse\"]) / 5\n",
        "    avg_mae = sum(results[\"test_mae\"]) / 5\n",
        "    results_dict[algorithm.__class__.__name__] = {'RMSE': avg_rmse, 'MAE': avg_mae}"
      ],
      "metadata": {
        "colab": {
          "base_uri": "https://localhost:8080/"
        },
        "id": "e1X75n6KUwMd",
        "outputId": "5e56fc6b-af2f-4a95-84fc-1cfa2f324190"
      },
      "execution_count": 9,
      "outputs": [
        {
          "output_type": "stream",
          "name": "stdout",
          "text": [
            "Evaluating RMSE, MAE of algorithm SVD on 5 split(s).\n",
            "\n",
            "                  Fold 1  Fold 2  Fold 3  Fold 4  Fold 5  Mean    Std     \n",
            "RMSE (testset)    0.9341  0.9328  0.9384  0.9311  0.9395  0.9352  0.0032  \n",
            "MAE (testset)     0.7368  0.7366  0.7386  0.7345  0.7382  0.7370  0.0014  \n",
            "Fit time          1.51    1.69    1.59    1.56    1.70    1.61    0.07    \n",
            "Test time         0.28    0.13    0.22    0.14    0.24    0.20    0.06    \n",
            "Evaluating RMSE, MAE of algorithm SVDpp on 5 split(s).\n",
            "\n",
            "                  Fold 1  Fold 2  Fold 3  Fold 4  Fold 5  Mean    Std     \n",
            "RMSE (testset)    0.9218  0.9155  0.9206  0.9200  0.9177  0.9191  0.0022  \n",
            "MAE (testset)     0.7225  0.7155  0.7244  0.7228  0.7192  0.7209  0.0032  \n",
            "Fit time          26.76   26.07   26.08   26.25   26.04   26.24   0.27    \n",
            "Test time         4.50    4.88    4.12    4.90    4.14    4.51    0.34    \n",
            "Evaluating RMSE, MAE of algorithm NMF on 5 split(s).\n",
            "\n",
            "                  Fold 1  Fold 2  Fold 3  Fold 4  Fold 5  Mean    Std     \n",
            "RMSE (testset)    0.9687  0.9526  0.9700  0.9642  0.9588  0.9629  0.0065  \n",
            "MAE (testset)     0.7596  0.7497  0.7645  0.7561  0.7551  0.7570  0.0049  \n",
            "Fit time          2.26    2.13    1.75    1.76    1.76    1.93    0.22    \n",
            "Test time         0.29    0.12    0.20    0.10    0.19    0.18    0.07    \n"
          ]
        }
      ]
    },
    {
      "cell_type": "code",
      "source": [
        "for algorithm, metrics in results_dict.items():\n",
        "    print(f'\\nResults for {algorithm}:')\n",
        "    print(f'Average RMSE: {metrics[\"RMSE\"]}')\n",
        "    print(f'Average MAE: {metrics[\"MAE\"]}')"
      ],
      "metadata": {
        "colab": {
          "base_uri": "https://localhost:8080/"
        },
        "id": "k2adnr-LXa_w",
        "outputId": "2cca5c9b-146d-4223-e185-0c64f29f79cf"
      },
      "execution_count": 10,
      "outputs": [
        {
          "output_type": "stream",
          "name": "stdout",
          "text": [
            "\n",
            "Results for SVD:\n",
            "Average RMSE: 0.9351669591753394\n",
            "Average MAE: 0.7369555132302934\n",
            "\n",
            "Results for SVDpp:\n",
            "Average RMSE: 0.9191139379710004\n",
            "Average MAE: 0.7208817115497249\n",
            "\n",
            "Results for NMF:\n",
            "Average RMSE: 0.9628660525014711\n",
            "Average MAE: 0.7569941650073746\n"
          ]
        }
      ]
    },
    {
      "cell_type": "code",
      "source": [
        "best_algorithm = min(results_dict, key=lambda x: results_dict[x]['RMSE'])\n",
        "print(f'\\nThe best algorithm is: {best_algorithm} with RMSE: {results_dict[best_algorithm][\"RMSE\"]}')"
      ],
      "metadata": {
        "colab": {
          "base_uri": "https://localhost:8080/"
        },
        "id": "0YKhthsNXfKG",
        "outputId": "14b70aec-c496-4b22-f6aa-991fcbfc2dd4"
      },
      "execution_count": 11,
      "outputs": [
        {
          "output_type": "stream",
          "name": "stdout",
          "text": [
            "\n",
            "The best algorithm is: SVDpp with RMSE: 0.9191139379710004\n"
          ]
        }
      ]
    }
  ]
}